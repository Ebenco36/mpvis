{
 "cells": [
  {
   "cell_type": "code",
   "execution_count": 2,
   "id": "57081683-6a70-4b3e-8d25-dad8693f280d",
   "metadata": {},
   "outputs": [
    {
     "name": "stdout",
     "output_type": "stream",
     "text": [
      "Dataset with 200 samples one-hot encoded as numeric values and saved as 'fruit_dataset_encoded_numeric.csv'.\n"
     ]
    }
   ],
   "source": [
    "import csv\n",
    "import random\n",
    "import pandas as pd\n",
    "\n",
    "# Define the fruit names, size categories, and color categories\n",
    "fruits = [\"Apple\", \"Banana\", \"Orange\", \"Strawberry\", \"Grape\", \"Lemon\", \"Pineapple\", \"Cherry\", \"Blueberry\", \"Kiwi\", \"Mango\", \"Watermelon\", \"Peach\", \"Plum\", \"Pear\"]\n",
    "sizes = [\"Small\", \"Medium\", \"Large\"]\n",
    "colors = [\"Red\", \"Yellow\", \"Orange\", \"Purple\", \"Green\", \"Blue\"]\n",
    "\n",
    "# Create a list to store the dataset\n",
    "dataset = []\n",
    "\n",
    "# Generate 200 random samples\n",
    "for _ in range(200):\n",
    "    fruit = random.choice(fruits)\n",
    "    size = random.choice(sizes)\n",
    "    color = random.choice(colors)\n",
    "    dataset.append([fruit, size, color])\n",
    "\n",
    "# Create a DataFrame from the dataset\n",
    "df = pd.DataFrame(dataset, columns=[\"Fruit\", \"Size\", \"Color\"])\n",
    "\n",
    "# One-hot encode the Size and Color columns\n",
    "df_encoded = pd.get_dummies(df, columns=[\"Size\", \"Color\"], dtype=int)\n",
    "\n",
    "# Write the encoded dataset to a CSV file\n",
    "df_encoded.to_csv(\"fruit_dataset_encoded_numeric.csv\", index=False)\n",
    "\n",
    "print(\"Dataset with 200 samples one-hot encoded as numeric values and saved as 'fruit_dataset_encoded_numeric.csv'.\")\n"
   ]
  },
  {
   "cell_type": "code",
   "execution_count": 4,
   "id": "8c832088-ab98-4898-b6b7-116862af9713",
   "metadata": {},
   "outputs": [
    {
     "name": "stderr",
     "output_type": "stream",
     "text": [
      "C:\\Users\\awotoroe\\.conda\\envs\\jupyter_env\\lib\\site-packages\\sklearn\\cluster\\_kmeans.py:1416: FutureWarning: The default value of `n_init` will change from 10 to 'auto' in 1.4. Set the value of `n_init` explicitly to suppress the warning\n",
      "  super()._check_params_vs_input(X, default_n_init=10)\n"
     ]
    },
    {
     "data": {
      "image/png": "[encoded data removed]",
      "text/plain": [
       "<Figure size 800x600 with 1 Axes>"
      ]
     },
     "metadata": {},
     "output_type": "display_data"
    },
    {
     "name": "stdout",
     "output_type": "stream",
     "text": [
      "Dataset with 200 samples one-hot encoded as numeric values and clustered using K-means saved as 'fruit_dataset_encoded_clustered.csv'.\n"
     ]
    }
   ],
   "source": [
    "import csv\n",
    "import random\n",
    "import pandas as pd\n",
    "from sklearn.cluster import KMeans\n",
    "import matplotlib.pyplot as plt\n",
    "\n",
    "# Define the fruit names, size categories, and color categories\n",
    "fruits = [\"Apple\", \"Banana\", \"Orange\", \"Strawberry\", \"Grape\", \"Lemon\", \"Pineapple\", \"Cherry\", \"Blueberry\", \"Kiwi\", \"Mango\", \"Watermelon\", \"Peach\", \"Plum\", \"Pear\"]\n",
    "sizes = [\"Small\", \"Medium\", \"Large\"]\n",
    "colors = [\"Red\", \"Yellow\", \"Orange\", \"Purple\", \"Green\", \"Blue\"]\n",
    "\n",
    "# Create a list to store the dataset\n",
    "dataset = []\n",
    "\n",
    "# Generate 200 random samples\n",
    "for _ in range(1000):\n",
    "    fruit = random.choice(fruits)\n",
    "    size = random.choice(sizes)\n",
    "    color = random.choice(colors)\n",
    "    dataset.append([fruit, size, color])\n",
    "\n",
    "# Create a DataFrame from the dataset\n",
    "df = pd.DataFrame(dataset, columns=[\"Fruit\", \"Size\", \"Color\"])\n",
    "\n",
    "# One-hot encode the Size and Color columns\n",
    "df_encoded = pd.get_dummies(df, columns=[\"Size\", \"Color\"], dtype=int)\n",
    "\n",
    "# Perform clustering with K-means\n",
    "n_clusters = 3  # You can adjust the number of clusters as needed\n",
    "kmeans = KMeans(n_clusters=n_clusters, random_state=42)\n",
    "df_encoded['Cluster'] = kmeans.fit_predict(df_encoded.drop(columns=['Fruit']))\n",
    "\n",
    "# Write the encoded and clustered dataset to a CSV file\n",
    "df_encoded.to_csv(\"fruit_dataset_encoded_clustered.csv\", index=False)\n",
    "\n",
    "# Plot the clustering chart\n",
    "plt.figure(figsize=(8, 6))\n",
    "colors = ['r', 'g', 'b', 'y', 'c', 'm']  # Define colors for clusters\n",
    "for cluster_num in range(n_clusters):\n",
    "    cluster_data = df_encoded[df_encoded['Cluster'] == cluster_num]\n",
    "    plt.scatter(cluster_data['Size_Large'], cluster_data['Color_Blue'], label=f'Cluster {cluster_num}', c=colors[cluster_num])\n",
    "\n",
    "plt.xlabel(\"Size (Large)\")\n",
    "plt.ylabel(\"Color (Blue)\")\n",
    "plt.title(\"Fruit Clustering Chart\")\n",
    "plt.legend()\n",
    "plt.show()\n",
    "\n",
    "print(\"Dataset with 200 samples one-hot encoded as numeric values and clustered using K-means saved as 'fruit_dataset_encoded_clustered.csv'.\")\n"
   ]
  },
  {
   "cell_type": "code",
   "execution_count": null,
   "id": "3dc850f9-6e59-49f7-b8b3-885d1960cae6",
   "metadata": {},
   "outputs": [],
   "source": []
  }
 ],
 "metadata": {
  "kernelspec": {
   "display_name": "Python 3 (ipykernel)",
   "language": "python",
   "name": "python3"
  },
  "language_info": {
   "codemirror_mode": {
    "name": "ipython",
    "version": 3
   },
   "file_extension": ".py",
   "mimetype": "text/x-python",
   "name": "python",
   "nbconvert_exporter": "python",
   "pygments_lexer": "ipython3",
   "version": "3.10.12"
  }
 },
 "nbformat": 4,
 "nbformat_minor": 5
}
