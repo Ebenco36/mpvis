{
 "cells": [
  {
   "cell_type": "code",
   "execution_count": 2,
   "metadata": {},
   "outputs": [],
   "source": [
    "def shorten_column_name(text):\n",
    "    return text\n",
    "\n",
    "\n",
    "def stats_data():\n",
    "    data = []\n",
    "    # trying to group these sections accordingly.\n",
    "    section1 = [\n",
    "        {\n",
    "            \"value\" : \"rcsb_entry_info_selected_polymer_entity_types\", \n",
    "            \"name\"  : \"by Experimental Method and Molecular Type\"\n",
    "        },\n",
    "        {\n",
    "            \"value\" : \"Species\", \n",
    "            \"name\"  : \"by Natural Source Organism\"\n",
    "        },\n",
    "        {\n",
    "            \"value\" : \"Species\", \n",
    "            \"name\"  : \"by Engineered Source Organism\"\n",
    "        },\n",
    "        {\n",
    "            \"value\" : \"Expressed in Species\", \n",
    "            \"name\"  : \"by Expression System Organism\"\n",
    "        },\n",
    "        {\n",
    "            \"value\" : \"Resolution\", \n",
    "            \"name\"  :  \"by Resolution\"\n",
    "        },\n",
    "        {\n",
    "            \"value\" : \"rcsb_entry_info_software_programs_combined\", \n",
    "            \"name\"  : \"by Software\"\n",
    "        },\n",
    "        {\n",
    "            \"value\" : \"refine_ls_rfactor_rfree\", \n",
    "            \"name\"  :  \"by R-free\"\n",
    "        },\n",
    "        {\n",
    "            \"value\" : \"symmetry_space_group_name_hm\", \n",
    "            \"name\"  : \"by Space Group\"\n",
    "        },\n",
    "        {\n",
    "            \"value\" : \"rcsb_primary_citation_journal_abbrev\", \n",
    "            \"name\"  :  \"by Journal\"\n",
    "        },\n",
    "        {\n",
    "            \"value\" : \"rcsb_entry_info_molecular_weight\", \n",
    "            \"name\"  :  \"by Molecular Weight (Structure)\"\n",
    "        },\n",
    "        {\n",
    "            \"value\" : \"rcsb_entry_info_molecular_weight\", \n",
    "            \"name\"  :  \"by Molecular Weight (Entity)\"\n",
    "        },\n",
    "        {\n",
    "            \"value\" : \"rcsb_entry_info_deposited_atom_count\", \n",
    "            \"name\"  :  \"by Atom Count\"\n",
    "        },\n",
    "        {\n",
    "            \"value\" : \"rcsb_entry_info_deposited_atom_count\", \n",
    "            \"name\"  :  \"by Residue Count\"\n",
    "        },\n",
    "        {\n",
    "            \"value\" : \"pdbx_sgproject_full_name_of_center\", \n",
    "            \"name\"  :  \"by Structural Genomics Centers\"\n",
    "        },\n",
    "    ]\n",
    "    section2 = [\n",
    "        {\n",
    "            \"value\" : \"rcsb_entry_info_experimental_method\", \n",
    "            \"name\"  : \"Overall\"\n",
    "        },\n",
    "        {\n",
    "            \"value\" : \"rcsb_entry_info_experimental_method*X-ray\", \n",
    "            \"name\"  : \"by X-ray\",\n",
    "        },\n",
    "        {\n",
    "            \"value\" : \"rcsb_entry_info_experimental_method*NMR\", \n",
    "            \"name\"  : \"by NMR\",\n",
    "        },\n",
    "        {\n",
    "            \"value\" : \"rcsb_entry_info_experimental_method*EM\", \n",
    "            \"name\"  : \"by Electron Microscopy\",\n",
    "        },\n",
    "        {\n",
    "            \"value\" : \"rcsb_entry_info_experimental_method*Multiple methods\", \n",
    "            \"name\"  : \"by Multi-method\",\n",
    "        },\n",
    "        {\n",
    "            \"value\" : \"rcsb_entry_info_selected_polymer_entity_types*Protein (only)\", \n",
    "            \"name\"  : \"by Protein-only\",\n",
    "        },\n",
    "        {\n",
    "            \"value\" : \"rcsb_entry_info_selected_polymer_entity_types*Protein/NA\", \n",
    "            \"name\"  : \"by Protein-Nucleic Acid Complexes\",\n",
    "        },\n",
    "        # {\n",
    "        #     \"value\" : \"rcsb_entry_info_experimental_method*AS\", \n",
    "        #     \"name\"  : \"by Assembly Symmetry\",\n",
    "        # },\n",
    "        {\n",
    "            \"value\" : \"rcsb_entry_info_experimental_method\", \n",
    "            \"name\"  : \"By Methods\"\n",
    "        }\n",
    "    ]\n",
    "    \n",
    "    section1 = reduce_value_length(section1)\n",
    "    section2 = reduce_value_length(section2)\n",
    "    \n",
    "    data.append({\n",
    "        \"section\": 'data_distribution', \n",
    "        \"data\": section1\n",
    "    })\n",
    "\n",
    "    data.append({\n",
    "        \"section\": 'released_structure_per_year', \n",
    "        \"data\": section2\n",
    "    })\n",
    "\n",
    "\n",
    "    return data\n",
    "\n",
    "\n",
    "def array_string_type ():\n",
    "    array_list = ['rcsb_entry_info_software_programs_combined', ]\n",
    "\n",
    "    return array_list\n",
    "\n",
    "\n",
    "def reduce_value_length(data):\n",
    "    for item in data:\n",
    "        if 'value' in item:\n",
    "            item['value'] = shorten_column_name(item['value'])\n",
    "    return data"
   ]
  },
  {
   "cell_type": "code",
   "execution_count": 16,
   "metadata": {},
   "outputs": [
    {
     "name": "stdout",
     "output_type": "stream",
     "text": [
      "['rcsb_entry_info_molecular_weight', 'rcsb_entry_info_selected_polymer_entity_types*Protein (only)', 'rcsb_entry_info_selected_polymer_entity_types', 'Species', 'pdbx_sgproject_full_name_of_center', 'rcsb_entry_info_experimental_method*X-ray', 'rcsb_entry_info_experimental_method*NMR', 'rcsb_entry_info_deposited_atom_count', 'Resolution', 'rcsb_entry_info_selected_polymer_entity_types*Protein/NA', 'Expressed in Species', 'symmetry_space_group_name_hm', 'rcsb_entry_info_software_programs_combined', 'rcsb_entry_info_experimental_method*EM', 'rcsb_primary_citation_journal_abbrev', 'rcsb_entry_info_experimental_method*Multiple methods', 'rcsb_entry_info_experimental_method', 'refine_ls_rfactor_rfree']\n"
     ]
    }
   ],
   "source": [
    "table_columns = stats_data()\n",
    "unique_values = set()\n",
    "for entry in table_columns:\n",
    "    for item in entry['data']:\n",
    "        unique_values.add(item['value'])\n",
    "\n",
    "# Convert the set to a list if needed\n",
    "unique_values_list = list(unique_values)\n",
    "\n",
    "# Print or use the unique values\n",
    "print(unique_values_list)"
   ]
  },
  {
   "cell_type": "code",
   "execution_count": 22,
   "metadata": {},
   "outputs": [
    {
     "name": "stdout",
     "output_type": "stream",
     "text": [
      "The file path '../src/MP/model.py' exists.\n"
     ]
    }
   ],
   "source": [
    "import os\n",
    "\n",
    "file_path = '../src/MP/model.py'\n",
    "\n",
    "# Check if the file path exists\n",
    "if os.path.exists(file_path):\n",
    "    print(f\"The file path '{file_path}' exists.\")\n",
    "else:\n",
    "    print(f\"The file path '{file_path}' does not exist.\")\n"
   ]
  },
  {
   "cell_type": "code",
   "execution_count": 23,
   "metadata": {},
   "outputs": [],
   "source": [
    "import ast\n",
    "def get_class_names(file_path):\n",
    "    class_names = []\n",
    "    with open(file_path, 'r') as file:\n",
    "        tree = ast.parse(file.read(), filename=file_path)\n",
    "\n",
    "    for node in ast.walk(tree):\n",
    "        if isinstance(node, ast.ClassDef):\n",
    "            class_names.append(node.name)\n",
    "\n",
    "    return class_names\n",
    "\n",
    "file_path = '../src/MP/model.py'\n",
    "class_names = get_class_names(file_path)\n"
   ]
  },
  {
   "cell_type": "code",
   "execution_count": 24,
   "metadata": {},
   "outputs": [
    {
     "name": "stdout",
     "output_type": "stream",
     "text": [
      "['MembraneProteinData']\n"
     ]
    }
   ],
   "source": [
    "print(class_names)"
   ]
  },
  {
   "cell_type": "code",
   "execution_count": 25,
   "metadata": {},
   "outputs": [
    {
     "ename": "ModuleNotFoundError",
     "evalue": "No module named 'src'",
     "output_type": "error",
     "traceback": [
      "\u001b[0;31m---------------------------------------------------------------------------\u001b[0m",
      "\u001b[0;31mModuleNotFoundError\u001b[0m                       Traceback (most recent call last)",
      "\u001b[1;32m/Users/AwotoroE-Dev/Desktop/mpvis/junks/Untitled.ipynb Cell 6\u001b[0m line \u001b[0;36m8\n\u001b[1;32m      <a href='vscode-notebook-cell:/Users/AwotoroE-Dev/Desktop/mpvis/junks/Untitled.ipynb#W5sZmlsZQ%3D%3D?line=4'>5</a>\u001b[0m module_name \u001b[39m=\u001b[39m \u001b[39m\"\u001b[39m\u001b[39msrc.MP.model\u001b[39m\u001b[39m\"\u001b[39m\n\u001b[1;32m      <a href='vscode-notebook-cell:/Users/AwotoroE-Dev/Desktop/mpvis/junks/Untitled.ipynb#W5sZmlsZQ%3D%3D?line=6'>7</a>\u001b[0m \u001b[39m# Import the module dynamically\u001b[39;00m\n\u001b[0;32m----> <a href='vscode-notebook-cell:/Users/AwotoroE-Dev/Desktop/mpvis/junks/Untitled.ipynb#W5sZmlsZQ%3D%3D?line=7'>8</a>\u001b[0m module \u001b[39m=\u001b[39m importlib\u001b[39m.\u001b[39;49mimport_module(module_name)\n\u001b[1;32m     <a href='vscode-notebook-cell:/Users/AwotoroE-Dev/Desktop/mpvis/junks/Untitled.ipynb#W5sZmlsZQ%3D%3D?line=9'>10</a>\u001b[0m \u001b[39m# Get the class from the module\u001b[39;00m\n\u001b[1;32m     <a href='vscode-notebook-cell:/Users/AwotoroE-Dev/Desktop/mpvis/junks/Untitled.ipynb#W5sZmlsZQ%3D%3D?line=10'>11</a>\u001b[0m \u001b[39mif\u001b[39;00m \u001b[39mhasattr\u001b[39m(module, class_name):\n",
      "File \u001b[0;32m/Library/Developer/CommandLineTools/Library/Frameworks/Python3.framework/Versions/3.9/lib/python3.9/importlib/__init__.py:127\u001b[0m, in \u001b[0;36mimport_module\u001b[0;34m(name, package)\u001b[0m\n\u001b[1;32m    125\u001b[0m             \u001b[39mbreak\u001b[39;00m\n\u001b[1;32m    126\u001b[0m         level \u001b[39m+\u001b[39m\u001b[39m=\u001b[39m \u001b[39m1\u001b[39m\n\u001b[0;32m--> 127\u001b[0m \u001b[39mreturn\u001b[39;00m _bootstrap\u001b[39m.\u001b[39;49m_gcd_import(name[level:], package, level)\n",
      "File \u001b[0;32m<frozen importlib._bootstrap>:1030\u001b[0m, in \u001b[0;36m_gcd_import\u001b[0;34m(name, package, level)\u001b[0m\n",
      "File \u001b[0;32m<frozen importlib._bootstrap>:1007\u001b[0m, in \u001b[0;36m_find_and_load\u001b[0;34m(name, import_)\u001b[0m\n",
      "File \u001b[0;32m<frozen importlib._bootstrap>:972\u001b[0m, in \u001b[0;36m_find_and_load_unlocked\u001b[0;34m(name, import_)\u001b[0m\n",
      "File \u001b[0;32m<frozen importlib._bootstrap>:228\u001b[0m, in \u001b[0;36m_call_with_frames_removed\u001b[0;34m(f, *args, **kwds)\u001b[0m\n",
      "File \u001b[0;32m<frozen importlib._bootstrap>:1030\u001b[0m, in \u001b[0;36m_gcd_import\u001b[0;34m(name, package, level)\u001b[0m\n",
      "File \u001b[0;32m<frozen importlib._bootstrap>:1007\u001b[0m, in \u001b[0;36m_find_and_load\u001b[0;34m(name, import_)\u001b[0m\n",
      "File \u001b[0;32m<frozen importlib._bootstrap>:972\u001b[0m, in \u001b[0;36m_find_and_load_unlocked\u001b[0;34m(name, import_)\u001b[0m\n",
      "File \u001b[0;32m<frozen importlib._bootstrap>:228\u001b[0m, in \u001b[0;36m_call_with_frames_removed\u001b[0;34m(f, *args, **kwds)\u001b[0m\n",
      "File \u001b[0;32m<frozen importlib._bootstrap>:1030\u001b[0m, in \u001b[0;36m_gcd_import\u001b[0;34m(name, package, level)\u001b[0m\n",
      "File \u001b[0;32m<frozen importlib._bootstrap>:1007\u001b[0m, in \u001b[0;36m_find_and_load\u001b[0;34m(name, import_)\u001b[0m\n",
      "File \u001b[0;32m<frozen importlib._bootstrap>:984\u001b[0m, in \u001b[0;36m_find_and_load_unlocked\u001b[0;34m(name, import_)\u001b[0m\n",
      "\u001b[0;31mModuleNotFoundError\u001b[0m: No module named 'src'"
     ]
    }
   ],
   "source": [
    "import importlib\n",
    "\n",
    "# Your class name as a string\n",
    "class_name = \"MembraneProteinData\"\n",
    "module_name = \"src.MP.model\"\n",
    "\n",
    "# Import the module dynamically\n",
    "module = importlib.import_module(module_name)\n",
    "\n",
    "# Get the class from the module\n",
    "if hasattr(module, class_name):\n",
    "    class_ = getattr(module, class_name)\n",
    "    class_instance = class_(\"Hello, world!\")\n",
    "\n",
    "    # Access class attributes\n",
    "    print(class_instance.value)\n",
    "else:\n",
    "    print(f\"Class '{class_name}' not found in module '{module_name}'.\")\n"
   ]
  },
  {
   "cell_type": "code",
   "execution_count": null,
   "metadata": {},
   "outputs": [],
   "source": [
    "from src.utils.helpers import calculate_protein_symmetry\n",
    "\n",
    "\n",
    "pdb_id = \"1abc\"  # Replace with the PDB ID you want to analyze\n",
    "calculate_protein_symmetry(pdb_id)"
   ]
  },
  {
   "cell_type": "code",
   "execution_count": null,
   "metadata": {},
   "outputs": [],
   "source": []
  }
 ],
 "metadata": {
  "kernelspec": {
   "display_name": "Python 3 (ipykernel)",
   "language": "python",
   "name": "python3"
  },
  "language_info": {
   "codemirror_mode": {
    "name": "ipython",
    "version": 3
   },
   "file_extension": ".py",
   "mimetype": "text/x-python",
   "name": "python",
   "nbconvert_exporter": "python",
   "pygments_lexer": "ipython3",
   "version": "3.9.6"
  }
 },
 "nbformat": 4,
 "nbformat_minor": 5
}
