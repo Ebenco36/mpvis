{
 "cells": [
  {
   "cell_type": "code",
   "execution_count": 3,
   "id": "8ab1a465-de12-4134-b496-eec9efc90de9",
   "metadata": {},
   "outputs": [],
   "source": [
    "import pandas as pd\n",
    "import numpy as np\n",
    "\n",
    "def remove_empty_by_percent(data, remove_by_percent = 90):\n",
    "    # Create a copy of the dataset to store the imputed values\n",
    "    imputed_data = data.copy()  \n",
    "    # Calculate the percentage of None values in each column\n",
    "    none_percentage = (imputed_data.isna().sum() / len(imputed_data)) * 100\n",
    "\n",
    "    # Determine columns with over 50% missing values\n",
    "    needed_columns = none_percentage[none_percentage <= remove_by_percent]\n",
    "\n",
    "    # get removed columns\n",
    "    # Get the columns that are not in the excluded_columns list\n",
    "    removed_columns = [col for col in imputed_data.columns if col not in needed_columns.index]\n",
    "\n",
    "    # Drop the columns from the DataFrame\n",
    "    filtered_data = imputed_data[needed_columns.index]\n",
    "\n",
    "    return filtered_data, needed_columns.index, removed_columns\n",
    "\n",
    "\n",
    "df = pd.read_csv(\"./Quantitative_data.csv\", low_memory=False)\n",
    "not_needed_columns = [\n",
    "    'Unnamed: 0', 'Unnamed: 0_x', \n",
    "    'Unnamed: 0.1', 'Unnamed: 0_y', 'Unnamed: 0_1',\n",
    "    'Secondary Bibliogrpahies', 'Related Pdb Entries', 'rcsb_primary_citation_pdbx_database_id_pub_med', \n",
    "    'citation_pdbx_database_id_pub_med', 'rcsb_entry_container_identifiers_pubmed_id',\n",
    "    \"rcsb_accession_info_major_revision\", \"rcsb_accession_info_minor_revision\",\n",
    "    \"rcsb_primary_citation_journal_id_csd\", \"rcsb_primary_citation_journal_volume\",\n",
    "    \"rcsb_primary_citation_year\", \"symmetry_int_tables_number\", \"pdbx_nmr_representative_conformer_id\",\n",
    "    \"citation_journal_id_csd\", \"citation_journal_volume\", \"citation_year\", \"diffrn_crystal_id\",\n",
    "    \"diffrn_id\", \"diffrn_radiation_diffrn_id\", \"diffrn_radiation_wavelength_id\", \"exptl_crystal_id\",\n",
    "    \"bibliography_year\", \"em_experiment_entity_assembly_id\", \"em_experiment_id\", \"diffrn_detector_diffrn_id\", \n",
    "    \"diffrn_source_diffrn_id\", \"exptl_crystal_grow_crystal_id\", \"pdbx_reflns_twin_crystal_id\", \"pdbx_reflns_twin_diffrn_id\",\n",
    "    \"pdbx_reflns_twin_domain_id\", \"pdbx_sgproject_id\", \"em3d_fitting_id\", \"em3d_reconstruction_id\", \"em3d_reconstruction_image_processing_id\",\n",
    "    \"em_ctf_correction_em_image_processing_id\", \"em_ctf_correction_id\", \"em_entity_assembly_id\", \"em_entity_assembly_parent_id\",\n",
    "    \"em_image_recording_id\", \"em_image_recording_imaging_id\", \"em_imaging_id\", \"em_imaging_specimen_id\", \"em_particle_selection_id\", \n",
    "    \"em_particle_selection_image_processing_id\", \"em_single_particle_entity_id\", \"em_single_particle_entity_image_processing_id\",\n",
    "    \"em_software_id\", \"em_software_image_processing_id\", \"em_specimen_experiment_id\", \"em_specimen_id\", \"em_vitrification_id\", \"em_vitrification_specimen_id\",\n",
    "    \"pdbx_nmr_exptl_conditions_id\", \"pdbx_nmr_exptl_experiment_id\", \"pdbx_nmr_exptl_solution_id\", \"pdbx_nmr_exptl_spectrometer_id\", \n",
    "    \"pdbx_nmr_exptl_sample_conditions_conditions_id\", \"pdbx_nmr_sample_details_solution_id\", \"pdbx_nmr_spectrometer_spectrometer_id\",\n",
    "    \"em3d_fitting_list_id\", \"em3d_fitting_list_3d_fitting_id\", \"em_helical_entity_id\", \"em_helical_entity_image_processing_id\",\n",
    "    \"pdbx_initial_refinement_model_id\", \"em3d_crystal_entity_id\", \"em3d_crystal_entity_image_processing_id\", \"em_diffraction_id\", \n",
    "    \"em_diffraction_imaging_id\", \"em_diffraction_shell_em_diffraction_stats_id\", \"em_diffraction_shell_id\", \"em_diffraction_stats_id\",\n",
    "    \"em_diffraction_stats_image_processing_id\", \"em_embedding_id\", \"em_embedding_specimen_id\", \"pdbx_serial_crystallography_sample_delivery_diffrn_id\",\n",
    "    \"pdbx_serial_crystallography_sample_delivery_injection_diffrn_id\", \"pdbx_serial_crystallography_sample_delivery_fixed_target_diffrn_id\",\n",
    "    \"pdbx_serial_crystallography_data_reduction_diffrn_id\", \"pdbx_serial_crystallography_measurement_diffrn_id\", \"em_staining_id\", \"em_staining_specimen_id\",\n",
    "    \"em2d_crystal_entity_id\", \"em2d_crystal_entity_image_processing_id\"\n",
    "]\n",
    "df = df.drop(not_needed_columns, inplace=False, axis=1)\n",
    "myList =  df.select_dtypes(include=['number', 'int', 'float']).columns.tolist()\n",
    "df = df[myList]\n",
    "new_df, _, _ = remove_empty_by_percent(df, 30)"
   ]
  },
  {
   "cell_type": "code",
   "execution_count": null,
   "id": "23a97aab-e0ad-4d26-a076-ed6fda9a82f5",
   "metadata": {},
   "outputs": [],
   "source": []
  },
  {
   "cell_type": "code",
   "execution_count": null,
   "id": "540b9b61-1e62-4b77-ae8f-41bc7a42246a",
   "metadata": {},
   "outputs": [],
   "source": []
  }
 ],
 "metadata": {
  "kernelspec": {
   "display_name": "Python 3 (ipykernel)",
   "language": "python",
   "name": "python3"
  },
  "language_info": {
   "codemirror_mode": {
    "name": "ipython",
    "version": 3
   },
   "file_extension": ".py",
   "mimetype": "text/x-python",
   "name": "python",
   "nbconvert_exporter": "python",
   "pygments_lexer": "ipython3",
   "version": "3.10.12"
  }
 },
 "nbformat": 4,
 "nbformat_minor": 5
}
