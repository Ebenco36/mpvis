{
 "cells": [
  {
   "cell_type": "code",
   "execution_count": 31,
   "id": "f04551ae-2d55-475b-ab19-14de05959670",
   "metadata": {},
   "outputs": [
    {
     "name": "stdout",
     "output_type": "stream",
     "text": [
      "An error occurred: name 'user_agent' is not defined\n",
      "An error occurred: name 'user_agent' is not defined\n",
      "An error occurred: name 'user_agent' is not defined\n",
      "An error occurred: name 'user_agent' is not defined\n",
      "An error occurred: name 'user_agent' is not defined\n",
      "Exceeded maximum retry attempts (5).\n"
     ]
    }
   ],
   "source": [
    "import requests\n",
    "import time\n",
    "from random import randint\n",
    "\n",
    "url = 'https://www.tandfonline.com/doi/full/10.1080/21645515.2019.1605818'\n",
    "\n",
    "# Set headers to mimic a regular browser\n",
    "headers = {\n",
    "    'User-Agent': 'Mozilla/5.0 (Windows NT 10.0; Win64; x64; rv:100.0) Gecko/20100101 Firefox/100.0',\n",
    "    'Accept-Language': 'en-US,en;q=0.5',\n",
    "}\n",
    "\n",
    "# Create a session\n",
    "with requests.Session() as session:\n",
    "    max_retries = 5  # Set the maximum number of retry attempts\n",
    "\n",
    "    for retry_count in range(1, max_retries + 1):\n",
    "        try:\n",
    "            # Make the request using the session\n",
    "            response = session.get(url, headers=headers)\n",
    "            if(response.status_code == 403):\n",
    "                scraper = cloudscraper.create_scraper()\n",
    "                response = scraper.get(url, headers={'User-Agent': 'Mozilla/5.0 (Windows NT 10.0; Win64; x64; rv:100.0) Gecko/20100101 Firefox/100.0',})\n",
    "\n",
    "            if response.status_code == 200:\n",
    "                # Assuming the paper content is in the response text\n",
    "                paper_content = response.text\n",
    "\n",
    "                # Save the content to a file (you can choose a suitable file format)\n",
    "                with open('downloaded_paper.html', 'w', encoding='utf-8') as file:\n",
    "                    file.write(paper_content)\n",
    "\n",
    "                print(\"Paper downloaded successfully.\")\n",
    "                break  # Break the loop if successful\n",
    "            elif response.status_code == 403:\n",
    "                print(f\"Received 403 error on attempt {retry_count}. Retrying...\")\n",
    "            else:\n",
    "                print(f\"Failed to retrieve the paper. Status code: {response.status_code}\")\n",
    "                break  # Break the loop for other status codes\n",
    "        except Exception as e:\n",
    "            print(f\"An error occurred: {e}\")\n",
    "\n",
    "        # Introduce a random delay between retry attempts\n",
    "        time.sleep(randint(1, 5))\n",
    "\n",
    "    else:\n",
    "        print(f\"Exceeded maximum retry attempts ({max_retries}).\")\n"
   ]
  },
  {
   "cell_type": "code",
   "execution_count": null,
   "id": "0d231a6b-e8ad-4105-a2d6-d14a90125c57",
   "metadata": {},
   "outputs": [],
   "source": []
  },
  {
   "cell_type": "code",
   "execution_count": null,
   "id": "21a4477e-74ee-4627-b6e3-a27ec026aa77",
   "metadata": {},
   "outputs": [],
   "source": []
  }
 ],
 "metadata": {
  "kernelspec": {
   "display_name": "Python 3 (ipykernel)",
   "language": "python",
   "name": "python3"
  },
  "language_info": {
   "codemirror_mode": {
    "name": "ipython",
    "version": 3
   },
   "file_extension": ".py",
   "mimetype": "text/x-python",
   "name": "python",
   "nbconvert_exporter": "python",
   "pygments_lexer": "ipython3",
   "version": "3.10.12"
  }
 },
 "nbformat": 4,
 "nbformat_minor": 5
}
